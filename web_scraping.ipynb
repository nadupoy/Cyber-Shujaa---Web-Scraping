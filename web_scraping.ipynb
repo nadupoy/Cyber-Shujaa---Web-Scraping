{
 "cells": [
  {
   "cell_type": "code",
   "execution_count": 1,
   "id": "7dfb49e0",
   "metadata": {},
   "outputs": [],
   "source": [
    "# import libraries:\n",
    "import requests"
   ]
  },
  {
   "cell_type": "code",
   "execution_count": null,
   "id": "0c8aaaae",
   "metadata": {},
   "outputs": [],
   "source": [
    "# construct the url by hand as the website is paginated:\n",
    "webPages = {\n",
    "\t\"page_num\": [\"1\", \"2\", \"3\", \"4\", \"5\", \"6\", \"7\", \"8\", \"9\", \"10\", \"11\", \"12\", \"13\", \"14\", \"15\", \"16\", \"17\", \"18\", \"19\", \"20\", \"21\", \"22\", \"23\", \"24\"]\n",
    "}"
   ]
  },
  {
   "cell_type": "code",
   "execution_count": 15,
   "id": "5d7da9d1",
   "metadata": {},
   "outputs": [],
   "source": [
    "# make a request:\n",
    "response = requests.get(\"https://www.scrapethissite.com/pages/forms\", params=webPages)"
   ]
  },
  {
   "cell_type": "code",
   "execution_count": 19,
   "id": "28205eac",
   "metadata": {},
   "outputs": [
    {
     "name": "stdout",
     "output_type": "stream",
     "text": [
      "http://www.scrapethissite.com/pages/forms/?page_num=1&page_num=2&page_num=3&page_num=4&page_num=5&page_num=6&page_num=7&page_num=8&page_num=9&page_num=10&page_num=11&page_num=12&page_num=13&page_num=14&page_num=15&page_num=16&page_num=17&page_num=18&page_num=19&page_num=20&page_num=21&page_num=22&page_num=23&page_num=24\n"
     ]
    }
   ],
   "source": [
    "# check if the url has been encoded correctly:\n",
    "print(response.url)"
   ]
  },
  {
   "cell_type": "code",
   "execution_count": 17,
   "id": "6d205afa",
   "metadata": {},
   "outputs": [
    {
     "name": "stdout",
     "output_type": "stream",
     "text": [
      "200\n"
     ]
    }
   ],
   "source": [
    "# check the status code:\n",
    "print(response.status_code)"
   ]
  },
  {
   "cell_type": "code",
   "execution_count": null,
   "id": "f56d030d",
   "metadata": {},
   "outputs": [],
   "source": [
    "print(response.text)"
   ]
  }
 ],
 "metadata": {
  "kernelspec": {
   "display_name": "webScraping (3.13.7)",
   "language": "python",
   "name": "python3"
  },
  "language_info": {
   "codemirror_mode": {
    "name": "ipython",
    "version": 3
   },
   "file_extension": ".py",
   "mimetype": "text/x-python",
   "name": "python",
   "nbconvert_exporter": "python",
   "pygments_lexer": "ipython3",
   "version": "3.13.7"
  }
 },
 "nbformat": 4,
 "nbformat_minor": 5
}
