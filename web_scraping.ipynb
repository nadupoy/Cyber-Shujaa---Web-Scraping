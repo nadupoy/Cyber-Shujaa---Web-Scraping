{
 "cells": [
  {
   "cell_type": "code",
   "execution_count": 42,
   "id": "7dfb49e0",
   "metadata": {},
   "outputs": [],
   "source": [
    "# import libraries:\n",
    "import requests\n",
    "from bs4 import BeautifulSoup\n",
    "import pandas as pd"
   ]
  },
  {
   "cell_type": "code",
   "execution_count": 44,
   "id": "b2340b13",
   "metadata": {},
   "outputs": [],
   "source": [
    "# scrape data from page 01 to page 24:\n",
    "i = 1\n",
    "while i < 25:\n",
    "\t# make a request:\n",
    "\turl = f\"https://www.scrapethissite.com/pages/forms/?page_num={i}\"\n",
    "\tresponse = requests.get(url)\n",
    "\n",
    "\t# parse the html:\n",
    "\thtml_doc = BeautifulSoup(response.text, \"html.parser\")\n",
    "\n",
    "\t# get all the table headers:\n",
    "\tth = html_doc.find_all(\"th\")\n",
    "\ttable_headers = []\n",
    "\tfor heading in th:\n",
    "\t\theading = heading.string.strip()\n",
    "\t\ttable_headers.append(heading)\n",
    "\n",
    "\t# get all the team names:\n",
    "\ttd_name = html_doc.find_all(\"td\", class_=\"name\")\n",
    "\tteam_names = []\n",
    "\tfor name in td_name:\n",
    "\t\tname = name.string.strip()\n",
    "\t\tteam_names.append(name)\n",
    "\n",
    "\t# get all the years:\n",
    "\ttd_year = html_doc.find_all(\"td\", class_=\"year\")\n",
    "\tyears = []\n",
    "\tfor year in td_year:\n",
    "\t\tyear = year.string.strip()\n",
    "\t\tyears.append(year)\n",
    "\n",
    "\t# get all the wins:\n",
    "\ttd_wins = html_doc.find_all(\"td\", class_=\"wins\")\n",
    "\twins = []\n",
    "\tfor win in td_wins:\n",
    "\t\twin = win.string.strip()\n",
    "\t\twins.append(win)\n",
    "\n",
    "\t# get all the losses:\n",
    "\ttd_losses = html_doc.find_all(\"td\", class_=\"losses\")\n",
    "\tlosses = []\n",
    "\tfor loss in td_losses:\n",
    "\t\tloss = loss.string.strip()\n",
    "\t\tlosses.append(loss)\n",
    "\n",
    "\t# get all the ot-losses:\n",
    "\ttd_ot_losses = html_doc.find_all(\"td\", class_=\"ot-losses\")\n",
    "\tot_losses = []\n",
    "\tfor ot_loss in td_ot_losses:\n",
    "\t\tot_loss = ot_loss.string.strip()\n",
    "\t\tot_losses.append(ot_loss)\n",
    "\n",
    "\t# get the win percentage:\n",
    "\ttd_pct = html_doc.find_all(\"td\", class_=\"pct\")\n",
    "\twin_pct = []\n",
    "\tfor pct in td_pct:\n",
    "\t\tpct = pct.string.strip()\n",
    "\t\twin_pct.append(pct)\n",
    "\n",
    "\t# get all the goals for:\n",
    "\ttd_gf = html_doc.find_all(\"td\", class_=\"gf\")\n",
    "\tgoals_for = []\n",
    "\tfor goal_for in td_gf:\n",
    "\t\tgoal_for = goal_for.string.strip()\n",
    "\t\tgoals_for.append(goal_for)\n",
    "\n",
    "\t# get all the goals against:\n",
    "\ttd_ga = html_doc.find_all(\"td\", class_=\"ga\")\n",
    "\tgoals_against = []\n",
    "\tfor goal_against in td_ga:\n",
    "\t\tgoal_against = goal_against.string.strip()\n",
    "\t\tgoals_against.append(goal_against)\n",
    "\n",
    "\t# get all the goal differences:\n",
    "\ttd_diff = html_doc.find_all(\"td\", class_=\"diff\")\n",
    "\tgoal_differences = []\n",
    "\tfor goal_difference in td_diff:\n",
    "\t\tgoal_difference = goal_difference.string.strip()\n",
    "\t\tgoal_differences.append(goal_difference)\n",
    "\n",
    "\tdata = {\n",
    "\t\ttable_headers[0]: team_names,\n",
    "\t\ttable_headers[1]: years,\n",
    "\t\ttable_headers[2]: wins,\n",
    "\t\ttable_headers[3]: losses,\n",
    "\t\ttable_headers[4]: ot_losses,\n",
    "\t\ttable_headers[5]: win_pct,\n",
    "\t\ttable_headers[6]: goals_for,\n",
    "\t\ttable_headers[7]: goals_against,\n",
    "\t\ttable_headers[8]: goal_differences\n",
    "\t}\n",
    "\n",
    "\t# load the data in to a DataFrame object:\n",
    "\tif i == 1:\n",
    "\t\tdf = pd.DataFrame(data)\n",
    "\telse:\n",
    "\t\t# combine subsequent tables:\n",
    "\t\tdf_concat = pd.DataFrame(data)\n",
    "\t\tdf = pd.concat([df, df_concat], axis=0)\n",
    "\n",
    "\ti += 1"
   ]
  },
  {
   "cell_type": "code",
   "execution_count": 45,
   "id": "8c76c51d",
   "metadata": {},
   "outputs": [
    {
     "data": {
      "text/plain": [
       "(582, 9)"
      ]
     },
     "execution_count": 45,
     "metadata": {},
     "output_type": "execute_result"
    }
   ],
   "source": [
    "df.shape"
   ]
  },
  {
   "cell_type": "code",
   "execution_count": 46,
   "id": "e25867bf",
   "metadata": {},
   "outputs": [],
   "source": [
    "# export the DataFrame in .csv format:\n",
    "df.to_csv(\"hockey_table.csv\", index=False)"
   ]
  }
 ],
 "metadata": {
  "kernelspec": {
   "display_name": "webScraping (3.13.7)",
   "language": "python",
   "name": "python3"
  },
  "language_info": {
   "codemirror_mode": {
    "name": "ipython",
    "version": 3
   },
   "file_extension": ".py",
   "mimetype": "text/x-python",
   "name": "python",
   "nbconvert_exporter": "python",
   "pygments_lexer": "ipython3",
   "version": "3.13.7"
  }
 },
 "nbformat": 4,
 "nbformat_minor": 5
}
